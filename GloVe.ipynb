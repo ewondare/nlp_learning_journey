{
  "nbformat": 4,
  "nbformat_minor": 0,
  "metadata": {
    "colab": {
      "provenance": []
    },
    "kernelspec": {
      "name": "python3",
      "display_name": "Python 3"
    },
    "language_info": {
      "name": "python"
    }
  },
  "cells": [
    {
      "cell_type": "markdown",
      "source": [
        "**Introduction to Global Vector method for embedding text**\n"
      ],
      "metadata": {
        "id": "f56FMB-L78Wt"
      }
    },
    {
      "cell_type": "code",
      "execution_count": 3,
      "metadata": {
        "id": "O3747yZk7WvD"
      },
      "outputs": [],
      "source": [
        "import numpy as np\n",
        "from sklearn.manifold import TSNE\n",
        "import matplotlib.pyplot as plt"
      ]
    },
    {
      "cell_type": "code",
      "source": [
        "# download the word vectors\n",
        "import gensim.downloader as api\n",
        "glove_model = api.load('glove-wiki-gigaword-300')"
      ],
      "metadata": {
        "colab": {
          "base_uri": "https://localhost:8080/"
        },
        "id": "XqGY2Qnh7tZu",
        "outputId": "f333e80b-3e09-4f22-9612-c124477e0280"
      },
      "execution_count": 4,
      "outputs": [
        {
          "output_type": "stream",
          "name": "stdout",
          "text": [
            "[==================================================] 100.0% 376.1/376.1MB downloaded\n"
          ]
        }
      ]
    },
    {
      "cell_type": "code",
      "source": [
        "glove_model"
      ],
      "metadata": {
        "colab": {
          "base_uri": "https://localhost:8080/"
        },
        "id": "pZizvkRdEy3-",
        "outputId": "da09e560-0610-42b5-a4b3-9be0529565fa"
      },
      "execution_count": 35,
      "outputs": [
        {
          "output_type": "execute_result",
          "data": {
            "text/plain": [
              "<gensim.models.keyedvectors.KeyedVectors at 0x7b698f59b160>"
            ]
          },
          "metadata": {},
          "execution_count": 35
        }
      ]
    },
    {
      "cell_type": "code",
      "source": [
        "glove_model[\"beautiful\"]"
      ],
      "metadata": {
        "colab": {
          "base_uri": "https://localhost:8080/"
        },
        "id": "pWma5LNM74Ut",
        "outputId": "50f2444a-4ede-430b-8c8a-6e7173d1eba7"
      },
      "execution_count": 5,
      "outputs": [
        {
          "output_type": "execute_result",
          "data": {
            "text/plain": [
              "array([-2.3852e-01, -3.3704e-01, -2.6531e-01, -3.4693e-01, -1.2875e-01,\n",
              "        1.0698e-01, -2.4669e-02,  2.6829e-02, -1.0024e-01, -9.1494e-01,\n",
              "        4.8989e-01, -1.0362e-01, -2.4535e-01,  5.7003e-01, -3.5189e-02,\n",
              "       -3.7690e-01, -6.9177e-02, -2.5942e-01,  2.2511e-01,  5.1855e-01,\n",
              "       -3.9326e-01,  1.2665e+00, -4.4396e-01,  7.6827e-01, -1.0909e-02,\n",
              "       -2.4237e-01, -1.0275e-01, -4.9712e-01, -8.0183e-02,  4.0611e-01,\n",
              "        2.1275e-01,  6.5182e-01, -1.1487e+00,  4.6080e-03, -6.8265e-01,\n",
              "        9.6941e-01, -7.6194e-02, -4.1590e-01, -2.7069e-01, -5.3364e-02,\n",
              "       -7.9631e-02, -2.6670e-01, -2.1544e-02,  2.2392e-01,  5.5741e-02,\n",
              "        8.4611e-02,  8.6011e-01,  4.8927e-01,  4.7428e-01, -2.4446e-01,\n",
              "       -2.1553e-01,  1.4370e-01,  5.0683e-01, -5.8435e-01, -5.6243e-01,\n",
              "       -6.3757e-02, -2.2861e-01, -6.9374e-02,  5.6618e-01, -8.7813e-02,\n",
              "       -2.1272e-01, -1.6319e-01,  3.3545e-01,  1.3707e-01, -1.1920e-03,\n",
              "        9.7461e-02,  3.2382e-01, -2.2693e-01, -1.7767e-01,  4.0166e-02,\n",
              "       -5.3029e-01, -4.5809e-01, -2.3483e-01,  3.1453e-01,  1.7206e-01,\n",
              "       -6.9996e-02,  2.1818e-01, -1.3370e-01,  7.0031e-02, -5.1293e-01,\n",
              "       -5.9242e-01,  2.6683e-01,  3.4211e-02, -2.3073e-01,  9.2629e-02,\n",
              "        9.7956e-01, -1.7105e-01,  3.4766e-01,  1.5655e-01,  1.6473e-01,\n",
              "       -4.8657e-02, -3.3195e-01,  4.0701e-02, -3.6882e-01,  3.8325e-02,\n",
              "        1.4471e-01,  4.5228e-01, -5.3237e-01,  1.6001e-01,  9.1856e-02,\n",
              "       -3.3670e-02, -2.8456e-01,  2.7661e-01,  2.5678e-01, -5.0600e-01,\n",
              "        9.0557e-02,  2.3590e-01, -2.3907e-01, -1.0190e-01, -4.3150e-01,\n",
              "       -1.9739e-01,  3.4452e-01,  3.3246e-01, -8.2128e-02,  2.3898e-01,\n",
              "        2.8935e-02,  3.4182e-01,  6.4785e-01,  4.4846e-02,  2.3185e-01,\n",
              "       -9.0600e-02,  3.2501e-01, -1.1690e-01,  6.3490e-01, -3.9302e-02,\n",
              "       -1.9762e-01, -1.1636e-01,  6.4526e-01, -6.8176e-01, -2.7499e-01,\n",
              "        2.3495e-01,  3.8022e-01, -7.2129e-02,  3.2216e-01, -6.3217e-01,\n",
              "       -1.3036e-01, -7.2367e-02, -1.8482e-01, -7.8929e-02,  1.2480e-01,\n",
              "        9.6149e-02,  4.8628e-02, -5.9320e-02, -1.5919e-01, -2.1533e-01,\n",
              "       -3.8724e-01,  3.5391e-01,  3.4231e-01, -3.9314e-01, -1.1976e-01,\n",
              "       -3.7050e-01, -1.2089e-01, -5.8203e-03, -3.3442e-01,  6.4367e-01,\n",
              "       -2.2489e-01, -4.5688e-01,  1.8812e-02,  1.7772e-01, -1.5363e-01,\n",
              "        4.2730e-02, -3.4811e-01,  6.1017e-01,  3.0632e-01, -4.0521e-01,\n",
              "        1.1642e-02,  8.0483e-05,  1.9665e-01,  2.7749e-01, -2.7826e-01,\n",
              "       -2.8165e-01, -1.7904e-01, -3.9776e-01,  2.9140e-01,  8.6537e-02,\n",
              "       -5.2711e-02, -2.4818e-01,  1.3174e-01, -5.0422e-01, -1.7553e-01,\n",
              "       -5.0302e-02, -6.6879e-01,  4.8007e-01,  2.3588e-02,  3.8455e-01,\n",
              "       -2.0443e-01,  3.2373e-01, -2.6863e-01, -1.1948e-03,  4.1770e-01,\n",
              "       -2.8839e-01, -5.8236e-02, -1.5103e-01, -5.2364e-02, -4.4363e-01,\n",
              "        1.8137e-01, -4.0447e-01, -4.2684e-01, -3.0427e-01,  3.6178e-01,\n",
              "        1.5595e+00, -3.3639e-01, -9.7822e-02, -1.7268e-02,  6.5117e-02,\n",
              "       -3.8777e-01,  5.7876e-02,  4.3497e-01, -3.1166e-01, -2.7618e-01,\n",
              "       -1.7773e-01,  3.3641e-01, -1.0508e-01, -3.1227e-01,  3.9182e-01,\n",
              "       -3.7915e-02,  2.5229e-01, -6.6904e-01,  1.0371e-01,  1.7643e-01,\n",
              "        2.5485e-01, -3.6815e-02,  1.7848e-01,  8.2182e-02, -6.1077e-01,\n",
              "        2.0832e-01,  4.1189e-01, -2.0953e-01, -5.2351e-01, -4.5922e-02,\n",
              "        1.0356e-01, -1.1626e-01, -2.3241e-01, -4.1366e-01, -5.6315e-02,\n",
              "        4.5747e-01, -2.9707e-01, -1.6137e-01, -3.3410e-01, -3.1331e-01,\n",
              "        3.3484e-01,  1.7417e-01, -4.1686e-01,  4.8983e-01, -1.7848e-01,\n",
              "        4.7937e-01, -3.0127e-01,  4.2611e-01,  1.9762e-01,  3.4076e-01,\n",
              "        2.6479e-01, -5.3770e-01, -1.0298e-01, -3.8824e-02,  7.3822e-01,\n",
              "        3.3278e-02,  1.1207e-01,  7.8605e-02,  1.3025e-01, -3.6788e-01,\n",
              "       -3.6885e-01, -4.0836e-01, -1.6628e-01, -2.1534e-01, -7.3451e-02,\n",
              "       -3.4754e-01, -8.6115e-03, -2.1517e-01,  4.9213e-01,  2.8894e-01,\n",
              "        1.9182e-01, -5.3703e-01,  1.5176e-02, -1.9287e-02,  1.2511e-01,\n",
              "        2.9509e-01, -1.0003e+00,  1.0112e-01, -1.3583e-01, -3.6766e-01,\n",
              "       -3.1532e-01,  3.9986e-01, -7.4484e-02, -1.6293e-01, -6.4623e-01,\n",
              "        1.8405e-01, -2.3892e-01,  3.5487e-01, -2.8264e-01, -3.4756e-01,\n",
              "        1.9120e-01,  7.6232e-02, -4.6812e-01,  3.9841e-01,  1.2330e-01,\n",
              "       -2.5784e-01,  4.5218e-01,  3.2891e-01,  3.7239e-02,  2.3779e-01],\n",
              "      dtype=float32)"
            ]
          },
          "metadata": {},
          "execution_count": 5
        }
      ]
    },
    {
      "cell_type": "code",
      "source": [
        "glove_model['ugly']"
      ],
      "metadata": {
        "colab": {
          "base_uri": "https://localhost:8080/"
        },
        "id": "O6O-123u8zw4",
        "outputId": "95671bb2-163e-437e-f391-943d9e25c74d"
      },
      "execution_count": 6,
      "outputs": [
        {
          "output_type": "execute_result",
          "data": {
            "text/plain": [
              "array([ 0.51359  ,  0.02538  ,  0.080338 , -0.084878 , -0.14292  ,\n",
              "       -0.042213 , -0.69721  ,  0.21186  ,  0.76892  , -0.39716  ,\n",
              "        0.068578 ,  0.37696  , -0.074055 ,  0.11572  ,  0.21816  ,\n",
              "       -0.4058   ,  0.48244  , -0.45734  ,  0.52256  ,  0.12455  ,\n",
              "       -0.029978 ,  0.42324  ,  0.13491  ,  0.2582   , -0.075682 ,\n",
              "       -0.10072  ,  0.24141  , -0.92781  ,  0.40955  ,  0.15916  ,\n",
              "       -0.77729  , -0.11806  , -0.51388  , -0.10838  , -0.70269  ,\n",
              "        0.92374  , -0.079416 , -0.24821  , -0.21452  ,  0.42194  ,\n",
              "        0.29268  , -0.36485  , -0.10676  , -0.53268  ,  0.15579  ,\n",
              "        0.16625  , -0.7486   , -0.33544  ,  0.32725  ,  0.041092 ,\n",
              "       -0.38007  ,  0.30422  ,  0.22262  , -0.31988  , -0.31067  ,\n",
              "       -0.13173  , -0.18666  ,  0.046198 ,  0.19376  , -0.5624   ,\n",
              "       -0.2282   , -0.82817  , -0.42115  , -0.4966   , -0.048112 ,\n",
              "       -0.072064 ,  0.63434  , -0.16605  ,  0.12267  , -0.3164   ,\n",
              "       -0.6656   , -0.064337 , -0.23182  ,  0.031037 , -0.29929  ,\n",
              "       -0.54253  , -0.16936  ,  0.1435   ,  0.12491  , -0.18809  ,\n",
              "       -0.54671  , -0.29169  ,  0.82293  , -0.054547 , -0.0050388,\n",
              "        0.56629  ,  0.4034   ,  0.37216  ,  0.33047  ,  0.5187   ,\n",
              "       -0.41297  , -0.041727 ,  0.1074   , -0.11368  , -0.48861  ,\n",
              "        0.4249   , -0.27468  ,  0.10824  , -0.096257 , -0.11903  ,\n",
              "        0.01065  , -0.58404  , -0.14336  ,  0.10373  ,  0.024963 ,\n",
              "       -0.073047 ,  0.031174 , -0.35052  ,  0.25682  ,  0.14532  ,\n",
              "        0.083101 ,  0.0084807, -0.51839  , -0.45966  ,  0.60566  ,\n",
              "        0.19468  ,  0.27932  ,  0.23698  , -0.32998  , -0.30205  ,\n",
              "        0.40349  , -0.12121  , -0.027686 ,  0.88638  , -0.18745  ,\n",
              "        0.06916  , -0.28106  ,  0.036365 ,  0.11344  , -0.54905  ,\n",
              "        0.76957  ,  0.5725   , -0.19306  ,  0.34217  , -0.83016  ,\n",
              "       -0.51395  , -0.053507 ,  0.20968  ,  0.25591  ,  0.083163 ,\n",
              "       -0.11677  ,  0.34755  ,  0.081367 ,  0.38671  , -0.46013  ,\n",
              "        0.41823  , -0.023994 ,  0.27423  ,  0.27016  ,  0.5589   ,\n",
              "       -0.11278  ,  0.17384  , -0.44904  , -0.1981   , -0.0095325,\n",
              "        0.093119 ,  0.5156   ,  0.33888  , -0.012591 ,  0.32331  ,\n",
              "        0.36125  ,  0.32     ,  0.12046  , -0.046187 ,  0.039599 ,\n",
              "        0.39152  , -0.25581  ,  0.64019  , -0.25028  , -0.82319  ,\n",
              "       -0.16716  ,  0.25655  , -0.16362  , -0.24063  , -0.59738  ,\n",
              "       -0.63317  , -0.32204  , -0.1235   ,  0.044652 , -0.40827  ,\n",
              "        0.11427  ,  0.085055 ,  0.26638  ,  0.076816 ,  0.20541  ,\n",
              "       -0.56597  ,  0.44594  ,  0.059953 ,  0.30052  ,  0.54177  ,\n",
              "       -0.034998 , -0.22821  , -0.21569  , -0.022095 ,  0.10119  ,\n",
              "        0.039083 , -0.29336  , -0.3593   , -0.29751  ,  0.074204 ,\n",
              "        0.96628  ,  0.27926  ,  0.25122  , -0.0021888,  0.10502  ,\n",
              "       -0.40294  ,  0.55252  , -0.033677 , -0.46787  , -0.11881  ,\n",
              "       -0.22597  ,  0.43432  ,  0.19341  ,  0.21378  ,  0.22701  ,\n",
              "       -0.071605 ,  0.53958  , -0.19398  , -0.12513  , -0.10382  ,\n",
              "       -0.21204  , -0.017042 ,  0.39985  ,  0.25778  , -0.4026   ,\n",
              "       -0.24254  ,  0.58613  , -0.55987  , -0.027725 ,  0.29678  ,\n",
              "        0.013057 , -0.2722   , -0.38192  , -0.6679   , -0.25004  ,\n",
              "       -0.17732  ,  0.12525  , -0.33412  , -0.19616  , -0.056127 ,\n",
              "        0.25387  ,  0.040357 , -0.31765  , -0.11215  , -0.4685   ,\n",
              "       -0.16043  , -0.037498 ,  0.11649  ,  0.21078  ,  0.083076 ,\n",
              "        0.52206  , -0.38047  , -0.64593  ,  0.15086  ,  0.32703  ,\n",
              "        0.036546 , -0.35346  , -0.53618  ,  0.075804 , -0.20814  ,\n",
              "       -0.46199  , -0.20566  , -0.40861  , -0.15247  ,  0.063457 ,\n",
              "        0.22639  , -0.30145  , -0.26525  ,  0.075482 ,  0.083392 ,\n",
              "        0.078284 ,  0.094855 , -0.092543 ,  0.12115  , -0.11827  ,\n",
              "        0.04578  , -0.69165  ,  0.72724  ,  0.39275  ,  0.14496  ,\n",
              "       -0.39042  ,  0.56958  ,  0.14595  , -0.31833  , -0.13544  ,\n",
              "       -0.14575  ,  0.23799  , -0.012897 ,  0.017934 , -0.60546  ,\n",
              "        0.22584  ,  0.18162  ,  0.039033 ,  0.54532  , -0.024229 ,\n",
              "       -0.41938  ,  0.11632  ,  0.44696  ,  0.038826 ,  0.13394  ],\n",
              "      dtype=float32)"
            ]
          },
          "metadata": {},
          "execution_count": 6
        }
      ]
    },
    {
      "cell_type": "code",
      "source": [
        "glove_model.most_similar(\"girl\")"
      ],
      "metadata": {
        "colab": {
          "base_uri": "https://localhost:8080/"
        },
        "id": "ZstVNvTi8d0f",
        "outputId": "d864f0bf-de61-4d39-f4aa-0a0a60835673"
      },
      "execution_count": 7,
      "outputs": [
        {
          "output_type": "execute_result",
          "data": {
            "text/plain": [
              "[('boy', 0.8272891044616699),\n",
              " ('woman', 0.729641854763031),\n",
              " ('girls', 0.7227292060852051),\n",
              " ('teenager', 0.6509774327278137),\n",
              " ('teenage', 0.6492719054222107),\n",
              " ('mother', 0.6417974829673767),\n",
              " ('boys', 0.6283578872680664),\n",
              " ('child', 0.6229295134544373),\n",
              " ('teen', 0.612524151802063),\n",
              " ('daughter', 0.6050207614898682)]"
            ]
          },
          "metadata": {},
          "execution_count": 7
        }
      ]
    },
    {
      "cell_type": "code",
      "source": [
        "glove_model.most_similar(positive=['boy', 'queen'], negative=['girl'], topn=3)\n",
        "# the famous example of relations"
      ],
      "metadata": {
        "colab": {
          "base_uri": "https://localhost:8080/"
        },
        "id": "nXYMHT3t88XT",
        "outputId": "7c209206-3bc0-4058-aa12-67dcb6919c6b"
      },
      "execution_count": 19,
      "outputs": [
        {
          "output_type": "execute_result",
          "data": {
            "text/plain": [
              "[('king', 0.6770139932632446),\n",
              " ('monarch', 0.5442801117897034),\n",
              " ('elizabeth', 0.5344177484512329)]"
            ]
          },
          "metadata": {},
          "execution_count": 19
        }
      ]
    },
    {
      "cell_type": "code",
      "source": [
        "glove_model.most_similar(positive=[  'iran' , 'berlin'] , negative=['tehran'] , topn=2)"
      ],
      "metadata": {
        "colab": {
          "base_uri": "https://localhost:8080/"
        },
        "id": "CF0T4MfI9FLX",
        "outputId": "dad44c1a-867c-4f24-ad9a-3c2d67d6da9a"
      },
      "execution_count": 25,
      "outputs": [
        {
          "output_type": "execute_result",
          "data": {
            "text/plain": [
              "[('germany', 0.7082135081291199), ('german', 0.5572676062583923)]"
            ]
          },
          "metadata": {},
          "execution_count": 25
        }
      ]
    },
    {
      "cell_type": "code",
      "source": [
        "glove_model.most_similar(positive = ['bad' , 'happy'], negative=['good' ] , topn=5)"
      ],
      "metadata": {
        "colab": {
          "base_uri": "https://localhost:8080/"
        },
        "id": "e1Fme30c-cNG",
        "outputId": "3740e0bf-4467-41c6-f33c-6e5b609ee480"
      },
      "execution_count": 27,
      "outputs": [
        {
          "output_type": "execute_result",
          "data": {
            "text/plain": [
              "[('sad', 0.5639287233352661),\n",
              " ('sorry', 0.559724748134613),\n",
              " ('unhappy', 0.5575994849205017),\n",
              " ('scared', 0.5041486024856567),\n",
              " ('glad', 0.5023762583732605)]"
            ]
          },
          "metadata": {},
          "execution_count": 27
        }
      ]
    },
    {
      "cell_type": "code",
      "source": [
        "vocab = [\"boy\", \"girl\", \"man\", \"woman\", \"king\", \"queen\", \"banana\", \"apple\", \"mango\", \"fruit\", \"coconut\", \"orange\", \"two\" ,\"thirty\" , \"zero\" , \"beautiful\" , \"gorgeous\" , \"sad\" , \"angry\" , \"rock\" , \"tree\" , \"flower\"]\n",
        "\n",
        "def tsne_plot(model):\n",
        "    labels = []\n",
        "    wordvecs = []\n",
        "\n",
        "    for word in vocab:\n",
        "        wordvecs.append(model[word])\n",
        "        labels.append(word)\n",
        "\n",
        "\n",
        "    wordvecs = np.array(wordvecs)\n",
        "\n",
        "    tsne_model = TSNE(perplexity=3, n_components=2, init='pca', random_state=42)\n",
        "    coordinates = tsne_model.fit_transform(wordvecs)\n",
        "\n",
        "    x = []\n",
        "    y = []\n",
        "    for value in coordinates:\n",
        "        x.append(value[0])\n",
        "        y.append(value[1])\n",
        "\n",
        "    plt.figure(figsize=(8,8))\n",
        "    for i in range(len(x)):\n",
        "        plt.scatter(x[i],y[i])\n",
        "        plt.annotate(labels[i],\n",
        "                     xy=(x[i], y[i]),\n",
        "                     xytext=(2, 2),\n",
        "                     textcoords='offset points',\n",
        "                     ha='right',\n",
        "                     va='bottom')\n",
        "    plt.show()\n",
        "\n",
        "tsne_plot(glove_model)"
      ],
      "metadata": {
        "colab": {
          "base_uri": "https://localhost:8080/",
          "height": 676
        },
        "id": "g_RVGbW6DvHY",
        "outputId": "7f68c424-bab3-4bf4-881a-6b60a5632b82"
      },
      "execution_count": 50,
      "outputs": [
        {
          "output_type": "display_data",
          "data": {
            "text/plain": [
              "<Figure size 800x800 with 1 Axes>"
            ],
            "image/png": "[encoded data removed]"
          },
          "metadata": {}
        }
      ]
    }
  ]
}